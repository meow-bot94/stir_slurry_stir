{
 "cells": [
  {
   "cell_type": "code",
   "execution_count": 1,
   "metadata": {
    "collapsed": true,
    "pycharm": {
     "name": "#%%\n"
    }
   },
   "outputs": [],
   "source": [
    "import scipy\n",
    "from scipy.stats import gamma\n",
    "import numpy as np\n",
    "import pandas as pd\n",
    "import plotly\n",
    "import plotly.express as px\n",
    "\n",
    "from model_state import default_tank_state\n",
    "from model_config import default_config, ModelConfig\n",
    "import numpy as np\n",
    "import pandas as pd\n",
    "from incoming_wip_generator import IncomingWipGenerator\n"
   ]
  },
  {
   "cell_type": "code",
   "execution_count": null,
   "outputs": [],
   "source": [
    "\n",
    "x_values = np.linspace(0, 10, 100)\n",
    "y_values = gamma.pdf(x=x_values, a=3, scale=1, loc=5)\n",
    "gamma_df = pd.DataFrame({'x': x_values, 'y': y_values})\n",
    "\n",
    "fig = px.scatter(data_frame=gamma_df, x='x', y='y')\n",
    "fig.show()"
   ],
   "metadata": {
    "collapsed": false,
    "pycharm": {
     "name": "#%%\n",
     "is_executing": true
    }
   }
  },
  {
   "cell_type": "code",
   "execution_count": null,
   "outputs": [],
   "source": [
    "\n",
    "\n",
    "for rand_seed in range(5):\n",
    "    test_config = ModelConfig(\n",
    "        num_tanks=3,\n",
    "        tank_status=[default_tank_state] * 3,\n",
    "        tank_fill_capacity_kg=200,\n",
    "        tank_min_capacity_kg=60,\n",
    "        min_wip_cluster=1,\n",
    "        max_wip_cluster=4,\n",
    "        max_wip_magnitude=200,\n",
    "        wafer_slurry_consumption_kg=3,\n",
    "        tank_clean_minutes=60,\n",
    "        tank_fill_minutes=90,\n",
    "        lookahead_minutes=60 * 8,\n",
    "        bin_minutes=10,\n",
    "        rand_seed=rand_seed,\n",
    "    )\n",
    "    incoming_wip = IncomingWipGenerator(test_config).generate()\n",
    "    incoming_wip_time = np.arange(0, len(incoming_wip))\n",
    "    plot_incoming_wip_df = pd.DataFrame({'x': incoming_wip_time, 'y': incoming_wip})\n",
    "    fig = px.scatter(plot_incoming_wip_df, x='x', y='y')\n",
    "    fig.show()\n"
   ],
   "metadata": {
    "collapsed": false,
    "pycharm": {
     "name": "#%%\n",
     "is_executing": true
    }
   }
  },
  {
   "cell_type": "code",
   "execution_count": null,
   "outputs": [],
   "source": [
    "incoming_wip = IncomingWipGenerator(default_config).generate()\n",
    "incoming_wip"
   ],
   "metadata": {
    "collapsed": false,
    "pycharm": {
     "name": "#%%\n",
     "is_executing": true
    }
   }
  },
  {
   "cell_type": "code",
   "execution_count": null,
   "outputs": [],
   "source": [],
   "metadata": {
    "collapsed": false,
    "pycharm": {
     "name": "#%%\n"
    }
   }
  },
  {
   "cell_type": "code",
   "execution_count": null,
   "outputs": [],
   "source": [],
   "metadata": {
    "collapsed": false,
    "pycharm": {
     "name": "#%%\n"
    }
   }
  }
 ],
 "metadata": {
  "kernelspec": {
   "display_name": "Python 3",
   "language": "python",
   "name": "python3"
  },
  "language_info": {
   "codemirror_mode": {
    "name": "ipython",
    "version": 2
   },
   "file_extension": ".py",
   "mimetype": "text/x-python",
   "name": "python",
   "nbconvert_exporter": "python",
   "pygments_lexer": "ipython2",
   "version": "2.7.6"
  }
 },
 "nbformat": 4,
 "nbformat_minor": 0
}