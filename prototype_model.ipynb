{
 "cells": [
  {
   "cell_type": "code",
   "execution_count": 15,
   "metadata": {
    "collapsed": true,
    "pycharm": {
     "name": "#%%\n"
    }
   },
   "outputs": [],
   "source": [
    "import scipy\n",
    "from scipy.stats import gamma\n",
    "import numpy as np\n",
    "import pandas as pd\n",
    "import plotly\n",
    "import plotly.express as px\n",
    "\n",
    "from src.incoming_wip.incoming_wip_generator import IncomingWipGenerator\n",
    "from src.incoming_wip.incoming_wip_config import default_incoming_wip_config\n",
    "from src.dp_model.dp_model_config import default_dp_model_config\n",
    "from src.dp_model.dp_model import DpModel"
   ]
  },
  {
   "cell_type": "code",
   "execution_count": null,
   "outputs": [],
   "source": [
    "\n",
    "x_values = np.linspace(0, 10, 100)\n",
    "y_values = gamma.pdf(x=x_values, a=3, scale=1, loc=5)\n",
    "gamma_df = pd.DataFrame({'x': x_values, 'y': y_values})\n",
    "\n",
    "fig = px.scatter(data_frame=gamma_df, x='x', y='y')\n",
    "fig.show()"
   ],
   "metadata": {
    "collapsed": false,
    "pycharm": {
     "name": "#%%\n"
    }
   }
  },
  {
   "cell_type": "code",
   "execution_count": null,
   "outputs": [],
   "source": [
    "incoming_wip = IncomingWipGenerator(default_incoming_wip_config).generate()\n",
    "plot_incoming_wip_df = pd.DataFrame({'incoming_wip': incoming_wip, 'period': range(len(incoming_wip))})\n",
    "fig = px.line(plot_incoming_wip_df, x='period', y='incoming_wip')\n",
    "fig.show()"
   ],
   "metadata": {
    "collapsed": false,
    "pycharm": {
     "name": "#%%\n",
     "is_executing": true
    }
   }
  },
  {
   "cell_type": "code",
   "execution_count": null,
   "outputs": [],
   "source": [
    "dp_model = DpModel(default_dp_model_config)\n",
    "dp_model.run(incoming_wip)\n",
    "dp_model.get_best_end_state()"
   ],
   "metadata": {
    "collapsed": false,
    "pycharm": {
     "name": "#%%\n",
     "is_executing": true
    }
   }
  },
  {
   "cell_type": "code",
   "execution_count": 20,
   "outputs": [
    {
     "data": {
      "text/plain": "    period  active_tank  current_slurry_unit_0  cleaning_period_remaining_0  \\\n0        0            0                    200                            0   \n1        1            0                    200                            0   \n2        2            0                    200                            0   \n3        3            0                    200                            0   \n4        4            0                    200                            0   \n5        5            0                    200                            0   \n6        6            0                    199                            0   \n7        7            0                    197                            0   \n8        8            0                    194                            0   \n9        9            0                    189                            0   \n10      10            0                    183                            0   \n11      11            0                    176                            0   \n12      12            0                    169                            0   \n13      13            0                    162                            0   \n14      14            0                    154                            0   \n15      15            0                    146                            0   \n16      16            0                    139                            0   \n17      17            0                    132                            0   \n18      18            0                    125                            0   \n19      19            0                    119                            0   \n20      20            0                    113                            0   \n21      21            0                    108                            0   \n22      22            0                    103                            0   \n23      23            0                     98                            0   \n24      24            0                     92                            0   \n25      25            0                     85                            0   \n26      26            0                     77                            0   \n27      27            0                     67                            0   \n28      28            1                      0                            6   \n29      29            1                      0                            5   \n30      30            1                      0                            4   \n31      31            1                      0                            3   \n32      32            1                      0                            2   \n33      33            1                      0                            1   \n34      34            1                      0                            0   \n35      35            1                      0                            0   \n36      36            1                      0                            0   \n37      37            1                      0                            0   \n38      38            1                      0                            0   \n39      39            1                      0                            0   \n40      40            1                      0                            0   \n41      41            1                      0                            0   \n42      42            1                      0                            0   \n43      43            1                    200                            0   \n44      44            1                    200                            0   \n45      45            1                    200                            0   \n46      46            1                    200                            0   \n47      47            1                    200                            0   \n48      48            1                    200                            0   \n\n    filling_period_remaining_0  down_start_period_0  current_slurry_unit_1  \\\n0                            0                  inf                    200   \n1                            0                  inf                    200   \n2                            0                  inf                    200   \n3                            0                  inf                    200   \n4                            0                  inf                    200   \n5                            0                  inf                    200   \n6                            0                  inf                    200   \n7                            0                  inf                    200   \n8                            0                  inf                    200   \n9                            0                  inf                    200   \n10                           0                  inf                    200   \n11                           0                  inf                    200   \n12                           0                  inf                    200   \n13                           0                  inf                    200   \n14                           0                  inf                    200   \n15                           0                  inf                    200   \n16                           0                  inf                    200   \n17                           0                  inf                    200   \n18                           0                  inf                    200   \n19                           0                  inf                    200   \n20                           0                  inf                    200   \n21                           0                  inf                    200   \n22                           0                  inf                    200   \n23                           0                  inf                    200   \n24                           0                  inf                    200   \n25                           0                  inf                    200   \n26                           0                  inf                    200   \n27                           0                  inf                    200   \n28                           9                 27.0                    250   \n29                           9                 27.0                    239   \n30                           9                 27.0                    228   \n31                           9                 27.0                    217   \n32                           9                 27.0                    206   \n33                           9                 27.0                    195   \n34                           9                 27.0                    185   \n35                           8                 27.0                    175   \n36                           7                 27.0                    166   \n37                           6                 27.0                    158   \n38                           5                 27.0                    150   \n39                           4                 27.0                    143   \n40                           3                 27.0                    137   \n41                           2                 27.0                    131   \n42                           1                 27.0                    126   \n43                           0                  inf                    121   \n44                           0                  inf                    117   \n45                           0                  inf                    113   \n46                           0                  inf                    110   \n47                           0                  inf                    107   \n48                           0                  inf                    105   \n\n    cleaning_period_remaining_1  filling_period_remaining_1  \\\n0                             0                           0   \n1                             0                           0   \n2                             0                           0   \n3                             0                           0   \n4                             0                           0   \n5                             0                           0   \n6                             0                           0   \n7                             0                           0   \n8                             0                           0   \n9                             0                           0   \n10                            0                           0   \n11                            0                           0   \n12                            0                           0   \n13                            0                           0   \n14                            0                           0   \n15                            0                           0   \n16                            0                           0   \n17                            0                           0   \n18                            0                           0   \n19                            0                           0   \n20                            0                           0   \n21                            0                           0   \n22                            0                           0   \n23                            0                           0   \n24                            0                           0   \n25                            0                           0   \n26                            0                           0   \n27                            0                           0   \n28                            0                           0   \n29                            0                           0   \n30                            0                           0   \n31                            0                           0   \n32                            0                           0   \n33                            0                           0   \n34                            0                           0   \n35                            0                           0   \n36                            0                           0   \n37                            0                           0   \n38                            0                           0   \n39                            0                           0   \n40                            0                           0   \n41                            0                           0   \n42                            0                           0   \n43                            0                           0   \n44                            0                           0   \n45                            0                           0   \n46                            0                           0   \n47                            0                           0   \n48                            0                           0   \n\n    down_start_period_1  current_slurry_unit_2  cleaning_period_remaining_2  \\\n0                   inf                    200                            0   \n1                   inf                    200                            0   \n2                   inf                    200                            0   \n3                   inf                    200                            0   \n4                   inf                    200                            0   \n5                   inf                    200                            0   \n6                   inf                    200                            0   \n7                   inf                    200                            0   \n8                   inf                    200                            0   \n9                   inf                    200                            0   \n10                  inf                    200                            0   \n11                  inf                    200                            0   \n12                  inf                    200                            0   \n13                  inf                    200                            0   \n14                  inf                    200                            0   \n15                  inf                    200                            0   \n16                  inf                    200                            0   \n17                  inf                    200                            0   \n18                  inf                    200                            0   \n19                  inf                    200                            0   \n20                  inf                    200                            0   \n21                  inf                    200                            0   \n22                  inf                    200                            0   \n23                  inf                    200                            0   \n24                  inf                    200                            0   \n25                  inf                    200                            0   \n26                  inf                    200                            0   \n27                  inf                    200                            0   \n28                  inf                    200                            0   \n29                  inf                    200                            0   \n30                  inf                    200                            0   \n31                  inf                    200                            0   \n32                  inf                    200                            0   \n33                  inf                    200                            0   \n34                  inf                    200                            0   \n35                  inf                    200                            0   \n36                  inf                    200                            0   \n37                  inf                    200                            0   \n38                  inf                    200                            0   \n39                  inf                    200                            0   \n40                  inf                    200                            0   \n41                  inf                    200                            0   \n42                  inf                    200                            0   \n43                  inf                    200                            0   \n44                  inf                    200                            0   \n45                  inf                    200                            0   \n46                  inf                    200                            0   \n47                  inf                    200                            0   \n48                  inf                    200                            0   \n\n    filling_period_remaining_2  down_start_period_2  cost  \n0                            0                  inf     0  \n1                            0                  inf     0  \n2                            0                  inf     0  \n3                            0                  inf     0  \n4                            0                  inf     0  \n5                            0                  inf     0  \n6                            0                  inf     0  \n7                            0                  inf     0  \n8                            0                  inf     0  \n9                            0                  inf     0  \n10                           0                  inf     0  \n11                           0                  inf     0  \n12                           0                  inf     0  \n13                           0                  inf     0  \n14                           0                  inf     0  \n15                           0                  inf     0  \n16                           0                  inf     0  \n17                           0                  inf     0  \n18                           0                  inf     0  \n19                           0                  inf     0  \n20                           0                  inf     0  \n21                           0                  inf     0  \n22                           0                  inf     0  \n23                           0                  inf     0  \n24                           0                  inf     0  \n25                           0                  inf     0  \n26                           0                  inf     0  \n27                           0                  inf     0  \n28                           0                  inf   350  \n29                           0                  inf   350  \n30                           0                  inf   350  \n31                           0                  inf   350  \n32                           0                  inf   350  \n33                           0                  inf   350  \n34                           0                  inf   350  \n35                           0                  inf   350  \n36                           0                  inf   350  \n37                           0                  inf   350  \n38                           0                  inf   350  \n39                           0                  inf   350  \n40                           0                  inf   350  \n41                           0                  inf   350  \n42                           0                  inf   350  \n43                           0                  inf   350  \n44                           0                  inf   350  \n45                           0                  inf   350  \n46                           0                  inf   350  \n47                           0                  inf   350  \n48                           0                  inf   350  ",
      "text/html": "<div>\n<style scoped>\n    .dataframe tbody tr th:only-of-type {\n        vertical-align: middle;\n    }\n\n    .dataframe tbody tr th {\n        vertical-align: top;\n    }\n\n    .dataframe thead th {\n        text-align: right;\n    }\n</style>\n<table border=\"1\" class=\"dataframe\">\n  <thead>\n    <tr style=\"text-align: right;\">\n      <th></th>\n      <th>period</th>\n      <th>active_tank</th>\n      <th>current_slurry_unit_0</th>\n      <th>cleaning_period_remaining_0</th>\n      <th>filling_period_remaining_0</th>\n      <th>down_start_period_0</th>\n      <th>current_slurry_unit_1</th>\n      <th>cleaning_period_remaining_1</th>\n      <th>filling_period_remaining_1</th>\n      <th>down_start_period_1</th>\n      <th>current_slurry_unit_2</th>\n      <th>cleaning_period_remaining_2</th>\n      <th>filling_period_remaining_2</th>\n      <th>down_start_period_2</th>\n      <th>cost</th>\n    </tr>\n  </thead>\n  <tbody>\n    <tr>\n      <th>0</th>\n      <td>0</td>\n      <td>0</td>\n      <td>200</td>\n      <td>0</td>\n      <td>0</td>\n      <td>inf</td>\n      <td>200</td>\n      <td>0</td>\n      <td>0</td>\n      <td>inf</td>\n      <td>200</td>\n      <td>0</td>\n      <td>0</td>\n      <td>inf</td>\n      <td>0</td>\n    </tr>\n    <tr>\n      <th>1</th>\n      <td>1</td>\n      <td>0</td>\n      <td>200</td>\n      <td>0</td>\n      <td>0</td>\n      <td>inf</td>\n      <td>200</td>\n      <td>0</td>\n      <td>0</td>\n      <td>inf</td>\n      <td>200</td>\n      <td>0</td>\n      <td>0</td>\n      <td>inf</td>\n      <td>0</td>\n    </tr>\n    <tr>\n      <th>2</th>\n      <td>2</td>\n      <td>0</td>\n      <td>200</td>\n      <td>0</td>\n      <td>0</td>\n      <td>inf</td>\n      <td>200</td>\n      <td>0</td>\n      <td>0</td>\n      <td>inf</td>\n      <td>200</td>\n      <td>0</td>\n      <td>0</td>\n      <td>inf</td>\n      <td>0</td>\n    </tr>\n    <tr>\n      <th>3</th>\n      <td>3</td>\n      <td>0</td>\n      <td>200</td>\n      <td>0</td>\n      <td>0</td>\n      <td>inf</td>\n      <td>200</td>\n      <td>0</td>\n      <td>0</td>\n      <td>inf</td>\n      <td>200</td>\n      <td>0</td>\n      <td>0</td>\n      <td>inf</td>\n      <td>0</td>\n    </tr>\n    <tr>\n      <th>4</th>\n      <td>4</td>\n      <td>0</td>\n      <td>200</td>\n      <td>0</td>\n      <td>0</td>\n      <td>inf</td>\n      <td>200</td>\n      <td>0</td>\n      <td>0</td>\n      <td>inf</td>\n      <td>200</td>\n      <td>0</td>\n      <td>0</td>\n      <td>inf</td>\n      <td>0</td>\n    </tr>\n    <tr>\n      <th>5</th>\n      <td>5</td>\n      <td>0</td>\n      <td>200</td>\n      <td>0</td>\n      <td>0</td>\n      <td>inf</td>\n      <td>200</td>\n      <td>0</td>\n      <td>0</td>\n      <td>inf</td>\n      <td>200</td>\n      <td>0</td>\n      <td>0</td>\n      <td>inf</td>\n      <td>0</td>\n    </tr>\n    <tr>\n      <th>6</th>\n      <td>6</td>\n      <td>0</td>\n      <td>199</td>\n      <td>0</td>\n      <td>0</td>\n      <td>inf</td>\n      <td>200</td>\n      <td>0</td>\n      <td>0</td>\n      <td>inf</td>\n      <td>200</td>\n      <td>0</td>\n      <td>0</td>\n      <td>inf</td>\n      <td>0</td>\n    </tr>\n    <tr>\n      <th>7</th>\n      <td>7</td>\n      <td>0</td>\n      <td>197</td>\n      <td>0</td>\n      <td>0</td>\n      <td>inf</td>\n      <td>200</td>\n      <td>0</td>\n      <td>0</td>\n      <td>inf</td>\n      <td>200</td>\n      <td>0</td>\n      <td>0</td>\n      <td>inf</td>\n      <td>0</td>\n    </tr>\n    <tr>\n      <th>8</th>\n      <td>8</td>\n      <td>0</td>\n      <td>194</td>\n      <td>0</td>\n      <td>0</td>\n      <td>inf</td>\n      <td>200</td>\n      <td>0</td>\n      <td>0</td>\n      <td>inf</td>\n      <td>200</td>\n      <td>0</td>\n      <td>0</td>\n      <td>inf</td>\n      <td>0</td>\n    </tr>\n    <tr>\n      <th>9</th>\n      <td>9</td>\n      <td>0</td>\n      <td>189</td>\n      <td>0</td>\n      <td>0</td>\n      <td>inf</td>\n      <td>200</td>\n      <td>0</td>\n      <td>0</td>\n      <td>inf</td>\n      <td>200</td>\n      <td>0</td>\n      <td>0</td>\n      <td>inf</td>\n      <td>0</td>\n    </tr>\n    <tr>\n      <th>10</th>\n      <td>10</td>\n      <td>0</td>\n      <td>183</td>\n      <td>0</td>\n      <td>0</td>\n      <td>inf</td>\n      <td>200</td>\n      <td>0</td>\n      <td>0</td>\n      <td>inf</td>\n      <td>200</td>\n      <td>0</td>\n      <td>0</td>\n      <td>inf</td>\n      <td>0</td>\n    </tr>\n    <tr>\n      <th>11</th>\n      <td>11</td>\n      <td>0</td>\n      <td>176</td>\n      <td>0</td>\n      <td>0</td>\n      <td>inf</td>\n      <td>200</td>\n      <td>0</td>\n      <td>0</td>\n      <td>inf</td>\n      <td>200</td>\n      <td>0</td>\n      <td>0</td>\n      <td>inf</td>\n      <td>0</td>\n    </tr>\n    <tr>\n      <th>12</th>\n      <td>12</td>\n      <td>0</td>\n      <td>169</td>\n      <td>0</td>\n      <td>0</td>\n      <td>inf</td>\n      <td>200</td>\n      <td>0</td>\n      <td>0</td>\n      <td>inf</td>\n      <td>200</td>\n      <td>0</td>\n      <td>0</td>\n      <td>inf</td>\n      <td>0</td>\n    </tr>\n    <tr>\n      <th>13</th>\n      <td>13</td>\n      <td>0</td>\n      <td>162</td>\n      <td>0</td>\n      <td>0</td>\n      <td>inf</td>\n      <td>200</td>\n      <td>0</td>\n      <td>0</td>\n      <td>inf</td>\n      <td>200</td>\n      <td>0</td>\n      <td>0</td>\n      <td>inf</td>\n      <td>0</td>\n    </tr>\n    <tr>\n      <th>14</th>\n      <td>14</td>\n      <td>0</td>\n      <td>154</td>\n      <td>0</td>\n      <td>0</td>\n      <td>inf</td>\n      <td>200</td>\n      <td>0</td>\n      <td>0</td>\n      <td>inf</td>\n      <td>200</td>\n      <td>0</td>\n      <td>0</td>\n      <td>inf</td>\n      <td>0</td>\n    </tr>\n    <tr>\n      <th>15</th>\n      <td>15</td>\n      <td>0</td>\n      <td>146</td>\n      <td>0</td>\n      <td>0</td>\n      <td>inf</td>\n      <td>200</td>\n      <td>0</td>\n      <td>0</td>\n      <td>inf</td>\n      <td>200</td>\n      <td>0</td>\n      <td>0</td>\n      <td>inf</td>\n      <td>0</td>\n    </tr>\n    <tr>\n      <th>16</th>\n      <td>16</td>\n      <td>0</td>\n      <td>139</td>\n      <td>0</td>\n      <td>0</td>\n      <td>inf</td>\n      <td>200</td>\n      <td>0</td>\n      <td>0</td>\n      <td>inf</td>\n      <td>200</td>\n      <td>0</td>\n      <td>0</td>\n      <td>inf</td>\n      <td>0</td>\n    </tr>\n    <tr>\n      <th>17</th>\n      <td>17</td>\n      <td>0</td>\n      <td>132</td>\n      <td>0</td>\n      <td>0</td>\n      <td>inf</td>\n      <td>200</td>\n      <td>0</td>\n      <td>0</td>\n      <td>inf</td>\n      <td>200</td>\n      <td>0</td>\n      <td>0</td>\n      <td>inf</td>\n      <td>0</td>\n    </tr>\n    <tr>\n      <th>18</th>\n      <td>18</td>\n      <td>0</td>\n      <td>125</td>\n      <td>0</td>\n      <td>0</td>\n      <td>inf</td>\n      <td>200</td>\n      <td>0</td>\n      <td>0</td>\n      <td>inf</td>\n      <td>200</td>\n      <td>0</td>\n      <td>0</td>\n      <td>inf</td>\n      <td>0</td>\n    </tr>\n    <tr>\n      <th>19</th>\n      <td>19</td>\n      <td>0</td>\n      <td>119</td>\n      <td>0</td>\n      <td>0</td>\n      <td>inf</td>\n      <td>200</td>\n      <td>0</td>\n      <td>0</td>\n      <td>inf</td>\n      <td>200</td>\n      <td>0</td>\n      <td>0</td>\n      <td>inf</td>\n      <td>0</td>\n    </tr>\n    <tr>\n      <th>20</th>\n      <td>20</td>\n      <td>0</td>\n      <td>113</td>\n      <td>0</td>\n      <td>0</td>\n      <td>inf</td>\n      <td>200</td>\n      <td>0</td>\n      <td>0</td>\n      <td>inf</td>\n      <td>200</td>\n      <td>0</td>\n      <td>0</td>\n      <td>inf</td>\n      <td>0</td>\n    </tr>\n    <tr>\n      <th>21</th>\n      <td>21</td>\n      <td>0</td>\n      <td>108</td>\n      <td>0</td>\n      <td>0</td>\n      <td>inf</td>\n      <td>200</td>\n      <td>0</td>\n      <td>0</td>\n      <td>inf</td>\n      <td>200</td>\n      <td>0</td>\n      <td>0</td>\n      <td>inf</td>\n      <td>0</td>\n    </tr>\n    <tr>\n      <th>22</th>\n      <td>22</td>\n      <td>0</td>\n      <td>103</td>\n      <td>0</td>\n      <td>0</td>\n      <td>inf</td>\n      <td>200</td>\n      <td>0</td>\n      <td>0</td>\n      <td>inf</td>\n      <td>200</td>\n      <td>0</td>\n      <td>0</td>\n      <td>inf</td>\n      <td>0</td>\n    </tr>\n    <tr>\n      <th>23</th>\n      <td>23</td>\n      <td>0</td>\n      <td>98</td>\n      <td>0</td>\n      <td>0</td>\n      <td>inf</td>\n      <td>200</td>\n      <td>0</td>\n      <td>0</td>\n      <td>inf</td>\n      <td>200</td>\n      <td>0</td>\n      <td>0</td>\n      <td>inf</td>\n      <td>0</td>\n    </tr>\n    <tr>\n      <th>24</th>\n      <td>24</td>\n      <td>0</td>\n      <td>92</td>\n      <td>0</td>\n      <td>0</td>\n      <td>inf</td>\n      <td>200</td>\n      <td>0</td>\n      <td>0</td>\n      <td>inf</td>\n      <td>200</td>\n      <td>0</td>\n      <td>0</td>\n      <td>inf</td>\n      <td>0</td>\n    </tr>\n    <tr>\n      <th>25</th>\n      <td>25</td>\n      <td>0</td>\n      <td>85</td>\n      <td>0</td>\n      <td>0</td>\n      <td>inf</td>\n      <td>200</td>\n      <td>0</td>\n      <td>0</td>\n      <td>inf</td>\n      <td>200</td>\n      <td>0</td>\n      <td>0</td>\n      <td>inf</td>\n      <td>0</td>\n    </tr>\n    <tr>\n      <th>26</th>\n      <td>26</td>\n      <td>0</td>\n      <td>77</td>\n      <td>0</td>\n      <td>0</td>\n      <td>inf</td>\n      <td>200</td>\n      <td>0</td>\n      <td>0</td>\n      <td>inf</td>\n      <td>200</td>\n      <td>0</td>\n      <td>0</td>\n      <td>inf</td>\n      <td>0</td>\n    </tr>\n    <tr>\n      <th>27</th>\n      <td>27</td>\n      <td>0</td>\n      <td>67</td>\n      <td>0</td>\n      <td>0</td>\n      <td>inf</td>\n      <td>200</td>\n      <td>0</td>\n      <td>0</td>\n      <td>inf</td>\n      <td>200</td>\n      <td>0</td>\n      <td>0</td>\n      <td>inf</td>\n      <td>0</td>\n    </tr>\n    <tr>\n      <th>28</th>\n      <td>28</td>\n      <td>1</td>\n      <td>0</td>\n      <td>6</td>\n      <td>9</td>\n      <td>27.0</td>\n      <td>250</td>\n      <td>0</td>\n      <td>0</td>\n      <td>inf</td>\n      <td>200</td>\n      <td>0</td>\n      <td>0</td>\n      <td>inf</td>\n      <td>350</td>\n    </tr>\n    <tr>\n      <th>29</th>\n      <td>29</td>\n      <td>1</td>\n      <td>0</td>\n      <td>5</td>\n      <td>9</td>\n      <td>27.0</td>\n      <td>239</td>\n      <td>0</td>\n      <td>0</td>\n      <td>inf</td>\n      <td>200</td>\n      <td>0</td>\n      <td>0</td>\n      <td>inf</td>\n      <td>350</td>\n    </tr>\n    <tr>\n      <th>30</th>\n      <td>30</td>\n      <td>1</td>\n      <td>0</td>\n      <td>4</td>\n      <td>9</td>\n      <td>27.0</td>\n      <td>228</td>\n      <td>0</td>\n      <td>0</td>\n      <td>inf</td>\n      <td>200</td>\n      <td>0</td>\n      <td>0</td>\n      <td>inf</td>\n      <td>350</td>\n    </tr>\n    <tr>\n      <th>31</th>\n      <td>31</td>\n      <td>1</td>\n      <td>0</td>\n      <td>3</td>\n      <td>9</td>\n      <td>27.0</td>\n      <td>217</td>\n      <td>0</td>\n      <td>0</td>\n      <td>inf</td>\n      <td>200</td>\n      <td>0</td>\n      <td>0</td>\n      <td>inf</td>\n      <td>350</td>\n    </tr>\n    <tr>\n      <th>32</th>\n      <td>32</td>\n      <td>1</td>\n      <td>0</td>\n      <td>2</td>\n      <td>9</td>\n      <td>27.0</td>\n      <td>206</td>\n      <td>0</td>\n      <td>0</td>\n      <td>inf</td>\n      <td>200</td>\n      <td>0</td>\n      <td>0</td>\n      <td>inf</td>\n      <td>350</td>\n    </tr>\n    <tr>\n      <th>33</th>\n      <td>33</td>\n      <td>1</td>\n      <td>0</td>\n      <td>1</td>\n      <td>9</td>\n      <td>27.0</td>\n      <td>195</td>\n      <td>0</td>\n      <td>0</td>\n      <td>inf</td>\n      <td>200</td>\n      <td>0</td>\n      <td>0</td>\n      <td>inf</td>\n      <td>350</td>\n    </tr>\n    <tr>\n      <th>34</th>\n      <td>34</td>\n      <td>1</td>\n      <td>0</td>\n      <td>0</td>\n      <td>9</td>\n      <td>27.0</td>\n      <td>185</td>\n      <td>0</td>\n      <td>0</td>\n      <td>inf</td>\n      <td>200</td>\n      <td>0</td>\n      <td>0</td>\n      <td>inf</td>\n      <td>350</td>\n    </tr>\n    <tr>\n      <th>35</th>\n      <td>35</td>\n      <td>1</td>\n      <td>0</td>\n      <td>0</td>\n      <td>8</td>\n      <td>27.0</td>\n      <td>175</td>\n      <td>0</td>\n      <td>0</td>\n      <td>inf</td>\n      <td>200</td>\n      <td>0</td>\n      <td>0</td>\n      <td>inf</td>\n      <td>350</td>\n    </tr>\n    <tr>\n      <th>36</th>\n      <td>36</td>\n      <td>1</td>\n      <td>0</td>\n      <td>0</td>\n      <td>7</td>\n      <td>27.0</td>\n      <td>166</td>\n      <td>0</td>\n      <td>0</td>\n      <td>inf</td>\n      <td>200</td>\n      <td>0</td>\n      <td>0</td>\n      <td>inf</td>\n      <td>350</td>\n    </tr>\n    <tr>\n      <th>37</th>\n      <td>37</td>\n      <td>1</td>\n      <td>0</td>\n      <td>0</td>\n      <td>6</td>\n      <td>27.0</td>\n      <td>158</td>\n      <td>0</td>\n      <td>0</td>\n      <td>inf</td>\n      <td>200</td>\n      <td>0</td>\n      <td>0</td>\n      <td>inf</td>\n      <td>350</td>\n    </tr>\n    <tr>\n      <th>38</th>\n      <td>38</td>\n      <td>1</td>\n      <td>0</td>\n      <td>0</td>\n      <td>5</td>\n      <td>27.0</td>\n      <td>150</td>\n      <td>0</td>\n      <td>0</td>\n      <td>inf</td>\n      <td>200</td>\n      <td>0</td>\n      <td>0</td>\n      <td>inf</td>\n      <td>350</td>\n    </tr>\n    <tr>\n      <th>39</th>\n      <td>39</td>\n      <td>1</td>\n      <td>0</td>\n      <td>0</td>\n      <td>4</td>\n      <td>27.0</td>\n      <td>143</td>\n      <td>0</td>\n      <td>0</td>\n      <td>inf</td>\n      <td>200</td>\n      <td>0</td>\n      <td>0</td>\n      <td>inf</td>\n      <td>350</td>\n    </tr>\n    <tr>\n      <th>40</th>\n      <td>40</td>\n      <td>1</td>\n      <td>0</td>\n      <td>0</td>\n      <td>3</td>\n      <td>27.0</td>\n      <td>137</td>\n      <td>0</td>\n      <td>0</td>\n      <td>inf</td>\n      <td>200</td>\n      <td>0</td>\n      <td>0</td>\n      <td>inf</td>\n      <td>350</td>\n    </tr>\n    <tr>\n      <th>41</th>\n      <td>41</td>\n      <td>1</td>\n      <td>0</td>\n      <td>0</td>\n      <td>2</td>\n      <td>27.0</td>\n      <td>131</td>\n      <td>0</td>\n      <td>0</td>\n      <td>inf</td>\n      <td>200</td>\n      <td>0</td>\n      <td>0</td>\n      <td>inf</td>\n      <td>350</td>\n    </tr>\n    <tr>\n      <th>42</th>\n      <td>42</td>\n      <td>1</td>\n      <td>0</td>\n      <td>0</td>\n      <td>1</td>\n      <td>27.0</td>\n      <td>126</td>\n      <td>0</td>\n      <td>0</td>\n      <td>inf</td>\n      <td>200</td>\n      <td>0</td>\n      <td>0</td>\n      <td>inf</td>\n      <td>350</td>\n    </tr>\n    <tr>\n      <th>43</th>\n      <td>43</td>\n      <td>1</td>\n      <td>200</td>\n      <td>0</td>\n      <td>0</td>\n      <td>inf</td>\n      <td>121</td>\n      <td>0</td>\n      <td>0</td>\n      <td>inf</td>\n      <td>200</td>\n      <td>0</td>\n      <td>0</td>\n      <td>inf</td>\n      <td>350</td>\n    </tr>\n    <tr>\n      <th>44</th>\n      <td>44</td>\n      <td>1</td>\n      <td>200</td>\n      <td>0</td>\n      <td>0</td>\n      <td>inf</td>\n      <td>117</td>\n      <td>0</td>\n      <td>0</td>\n      <td>inf</td>\n      <td>200</td>\n      <td>0</td>\n      <td>0</td>\n      <td>inf</td>\n      <td>350</td>\n    </tr>\n    <tr>\n      <th>45</th>\n      <td>45</td>\n      <td>1</td>\n      <td>200</td>\n      <td>0</td>\n      <td>0</td>\n      <td>inf</td>\n      <td>113</td>\n      <td>0</td>\n      <td>0</td>\n      <td>inf</td>\n      <td>200</td>\n      <td>0</td>\n      <td>0</td>\n      <td>inf</td>\n      <td>350</td>\n    </tr>\n    <tr>\n      <th>46</th>\n      <td>46</td>\n      <td>1</td>\n      <td>200</td>\n      <td>0</td>\n      <td>0</td>\n      <td>inf</td>\n      <td>110</td>\n      <td>0</td>\n      <td>0</td>\n      <td>inf</td>\n      <td>200</td>\n      <td>0</td>\n      <td>0</td>\n      <td>inf</td>\n      <td>350</td>\n    </tr>\n    <tr>\n      <th>47</th>\n      <td>47</td>\n      <td>1</td>\n      <td>200</td>\n      <td>0</td>\n      <td>0</td>\n      <td>inf</td>\n      <td>107</td>\n      <td>0</td>\n      <td>0</td>\n      <td>inf</td>\n      <td>200</td>\n      <td>0</td>\n      <td>0</td>\n      <td>inf</td>\n      <td>350</td>\n    </tr>\n    <tr>\n      <th>48</th>\n      <td>48</td>\n      <td>1</td>\n      <td>200</td>\n      <td>0</td>\n      <td>0</td>\n      <td>inf</td>\n      <td>105</td>\n      <td>0</td>\n      <td>0</td>\n      <td>inf</td>\n      <td>200</td>\n      <td>0</td>\n      <td>0</td>\n      <td>inf</td>\n      <td>350</td>\n    </tr>\n  </tbody>\n</table>\n</div>"
     },
     "execution_count": 20,
     "metadata": {},
     "output_type": "execute_result"
    }
   ],
   "source": [
    "state_df = dp_model.get_best_state_df()\n",
    "state_df"
   ],
   "metadata": {
    "collapsed": false,
    "pycharm": {
     "name": "#%%\n"
    }
   }
  },
  {
   "cell_type": "code",
   "execution_count": null,
   "outputs": [],
   "source": [
    "fig = px.line(data_frame=state_df, x='period', y=[col for col in state_df.columns if 'slurry' in col])\n",
    "fig.show()"
   ],
   "metadata": {
    "collapsed": false,
    "pycharm": {
     "name": "#%%\n",
     "is_executing": true
    }
   }
  },
  {
   "cell_type": "code",
   "execution_count": null,
   "outputs": [],
   "source": [
    "%%time\n",
    "from src.scenario.scenario_config import default_scenario_config\n",
    "from src.incoming_wip.incoming_wip_config import IncomingWipConfig\n",
    "\n",
    "for i in range(7):\n",
    "    incoming_wip_config = IncomingWipConfig(\n",
    "        scenario=default_scenario_config,\n",
    "        rand_seed=i,\n",
    "        min_wip_cluster=1,\n",
    "        max_wip_cluster=4,\n",
    "        max_wip_magnitude=400,\n",
    "        wafer_slurry_consumption_kg=3,\n",
    "    )\n",
    "    incoming_wip = IncomingWipGenerator(incoming_wip_config).generate()\n",
    "    dp_model = DpModel(default_dp_model_config)\n",
    "    dp_model.run(incoming_wip)\n",
    "    state_df = dp_model.get_best_state_df()\n",
    "    best_end_state = dp_model.get_best_end_state()\n",
    "    end_cost = best_end_state[1].cost\n",
    "\n",
    "    plot_incoming_wip_df = pd.DataFrame({'incoming_wip': incoming_wip, 'period': range(len(incoming_wip))})\n",
    "    fig = px.line(plot_incoming_wip_df, x='period', y='incoming_wip', title=f'incoming wip {i}')\n",
    "    fig.show()\n",
    "\n",
    "    fig = px.line(data_frame=state_df, x='period', y=[col for col in state_df.columns if 'slurry' in col], title=f'model states {i}, cost={end_cost}')\n",
    "    fig.show()\n",
    "\n",
    "    # Plot model internal states count\n",
    "    state_count = [len(dp_model.states[i]) for i, j in enumerate(dp_model.states)]\n",
    "    plot_state_count = pd.DataFrame({'state_count': state_count, 'period': list(range(len(state_count)))})\n",
    "    fig = px.bar(data_frame=plot_state_count, x='period', y='state_count', title='number of states')\n",
    "    fig.show()\n"
   ],
   "metadata": {
    "collapsed": false,
    "pycharm": {
     "name": "#%%\n",
     "is_executing": true
    }
   }
  },
  {
   "cell_type": "code",
   "execution_count": null,
   "outputs": [],
   "source": [],
   "metadata": {
    "collapsed": false,
    "pycharm": {
     "name": "#%%\n"
    }
   }
  }
 ],
 "metadata": {
  "kernelspec": {
   "display_name": "Python 3",
   "language": "python",
   "name": "python3"
  },
  "language_info": {
   "codemirror_mode": {
    "name": "ipython",
    "version": 2
   },
   "file_extension": ".py",
   "mimetype": "text/x-python",
   "name": "python",
   "nbconvert_exporter": "python",
   "pygments_lexer": "ipython2",
   "version": "2.7.6"
  }
 },
 "nbformat": 4,
 "nbformat_minor": 0
}