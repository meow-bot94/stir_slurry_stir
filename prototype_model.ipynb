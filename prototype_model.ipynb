{
 "cells": [
  {
   "cell_type": "code",
   "execution_count": 1,
   "metadata": {
    "collapsed": true,
    "pycharm": {
     "name": "#%%\n"
    }
   },
   "outputs": [],
   "source": [
    "from src.incoming_wip.incoming_wip_generator import IncomingWipGenerator\n",
    "from src.incoming_wip.incoming_wip_config import default_incoming_wip_config\n",
    "import scipy\n",
    "from scipy.stats import gamma\n",
    "import numpy as np\n",
    "import pandas as pd\n",
    "import plotly\n",
    "import plotly.express as px\n",
    "\n",
    "from tank_state import default_tank_state\n",
    "from model_config import ModelConfig\n",
    "import numpy as np\n",
    "import pandas as pd\n"
   ]
  },
  {
   "cell_type": "code",
   "execution_count": null,
   "outputs": [],
   "source": [
    "\n",
    "x_values = np.linspace(0, 10, 100)\n",
    "y_values = gamma.pdf(x=x_values, a=3, scale=1, loc=5)\n",
    "gamma_df = pd.DataFrame({'x': x_values, 'y': y_values})\n",
    "\n",
    "fig = px.scatter(data_frame=gamma_df, x='x', y='y')\n",
    "fig.show()"
   ],
   "metadata": {
    "collapsed": false,
    "pycharm": {
     "name": "#%%\n"
    }
   }
  },
  {
   "cell_type": "code",
   "execution_count": null,
   "outputs": [],
   "source": [
    "\n",
    "for rand_seed in range(5):\n",
    "    test_config = ModelConfig(\n",
    "        num_tanks=3,\n",
    "        tank_status=[default_tank_state] * 3,\n",
    "        tank_fill_capacity_kg=200,\n",
    "        tank_min_capacity_kg=60,\n",
    "        min_wip_cluster=1,\n",
    "        max_wip_cluster=4,\n",
    "        max_wip_magnitude=200,\n",
    "        wafer_slurry_consumption_kg=3,\n",
    "        tank_clean_minutes=60,\n",
    "        tank_fill_minutes=90,\n",
    "        lookahead_minutes=60 * 8,\n",
    "        bin_minutes=10,\n",
    "        rand_seed=rand_seed,\n",
    "    )\n",
    "    incoming_wip = IncomingWipGenerator(test_config).generate()\n",
    "    incoming_wip_time = np.arange(0, len(incoming_wip))\n",
    "    plot_incoming_wip_df = pd.DataFrame({'x': incoming_wip_time, 'y': incoming_wip})\n",
    "    fig = px.scatter(plot_incoming_wip_df, x='x', y='y')\n",
    "    fig.show()\n"
   ],
   "metadata": {
    "collapsed": false,
    "pycharm": {
     "name": "#%%\n"
    }
   }
  },
  {
   "cell_type": "code",
   "execution_count": 2,
   "outputs": [
    {
     "data": {
      "text/plain": "array([ 0.        ,  0.        ,  0.        ,  0.        ,  0.06439906,\n        0.82227114,  2.0395552 ,  3.37621369,  4.63026888,  5.6929343 ,\n        6.51667366,  7.09273615,  7.43559081,  7.57234382,  7.53572087,\n        7.35957185,  7.07613506,  6.7145081 ,  6.29992726,  5.85357227,\n        5.39269738,  4.93095107,  5.0483021 ,  5.97892995,  7.21952382,\n        8.46288212,  9.53604505, 10.35509014, 10.89323147, 11.15862033,\n       11.17916625, 10.99239315, 10.63886782, 10.15813034,  9.58634797,\n        8.95513189,  8.29111631,  7.61601799,  6.94697992,  6.29706574,\n        5.67581605,  5.08980968,  4.54319517,  4.03817324,  3.57542114,\n        3.15445665,  2.77394374,  2.4319443 ])"
     },
     "execution_count": 2,
     "metadata": {},
     "output_type": "execute_result"
    }
   ],
   "source": [
    "incoming_wip = IncomingWipGenerator(default_incoming_wip_config).generate()\n",
    "incoming_wip"
   ],
   "metadata": {
    "collapsed": false,
    "pycharm": {
     "name": "#%%\n"
    }
   }
  },
  {
   "cell_type": "code",
   "execution_count": 1,
   "outputs": [],
   "source": [
    "from src.dp_model.dp_model_config import DPModelConfig\n",
    "import numpy as np\n",
    "import pandas as pd\n",
    "from collections import namedtuple"
   ],
   "metadata": {
    "collapsed": false,
    "pycharm": {
     "name": "#%%\n"
    }
   }
  },
  {
   "cell_type": "code",
   "execution_count": 6,
   "outputs": [
    {
     "data": {
      "text/plain": "ScenarioConfig(lookahead_minutes=480, period_bin_minutes=10, slurry_unit_bin_kg=1, lookahead_period=48)"
     },
     "execution_count": 6,
     "metadata": {},
     "output_type": "execute_result"
    }
   ],
   "source": [
    "from src.scenario.scenario_config import default_scenario_config\n",
    "\n",
    "default_scenario_config"
   ],
   "metadata": {
    "collapsed": false,
    "pycharm": {
     "name": "#%%\n"
    }
   }
  },
  {
   "cell_type": "code",
   "execution_count": 4,
   "outputs": [
    {
     "data": {
      "text/plain": "TankState(id=1, current_slurry_unit=100, cleaning_period_remaining=0, filling_period_remaining=0, down_start_period=1)"
     },
     "execution_count": 4,
     "metadata": {},
     "output_type": "execute_result"
    }
   ],
   "source": [
    "import numpy as np\n",
    "from src.dp_model.tank_state import TankState\n",
    "import operator\n",
    "test_state = [TankState(0, 100, 0, 0, 3), TankState(1, 100, 0, 0, 1), TankState(2, 100, 0, 0, np.inf)]\n",
    "min(test_state, key=operator.attrgetter('down_start_period'))"
   ],
   "metadata": {
    "collapsed": false,
    "pycharm": {
     "name": "#%%\n"
    }
   }
  },
  {
   "cell_type": "code",
   "execution_count": 3,
   "outputs": [],
   "source": [
    "from src.dp_model.dp_model_config import default_dp_model_config\n",
    "from src.dp_model.dp_model import DpModel\n",
    "\n",
    "dp_model = DpModel(default_dp_model_config)\n",
    "dp_model.run(incoming_wip)"
   ],
   "metadata": {
    "collapsed": false,
    "pycharm": {
     "name": "#%%\n"
    }
   }
  },
  {
   "cell_type": "code",
   "execution_count": 4,
   "outputs": [
    {
     "data": {
      "text/plain": "(State(period=48, active_tank=1, tank_states=(TankState(id=0, current_slurry_unit=200, cleaning_period_remaining=0, filling_period_remaining=0, down_start_period=inf), TankState(id=1, current_slurry_unit=112.0, cleaning_period_remaining=0, filling_period_remaining=0, down_start_period=inf), TankState(id=2, current_slurry_unit=200, cleaning_period_remaining=0, filling_period_remaining=0, down_start_period=inf))),\n StateValue(cost=0, origin=State(period=47, active_tank=1, tank_states=(TankState(id=0, current_slurry_unit=200, cleaning_period_remaining=0, filling_period_remaining=0, down_start_period=inf), TankState(id=1, current_slurry_unit=114.0, cleaning_period_remaining=0, filling_period_remaining=0, down_start_period=inf), TankState(id=2, current_slurry_unit=200, cleaning_period_remaining=0, filling_period_remaining=0, down_start_period=inf)))))"
     },
     "execution_count": 4,
     "metadata": {},
     "output_type": "execute_result"
    }
   ],
   "source": [
    "dp_model.get_best_end_state()"
   ],
   "metadata": {
    "collapsed": false,
    "pycharm": {
     "name": "#%%\n"
    }
   }
  },
  {
   "cell_type": "code",
   "execution_count": 4,
   "outputs": [],
   "source": [
    "import mip"
   ],
   "metadata": {
    "collapsed": false,
    "pycharm": {
     "name": "#%%\n"
    }
   }
  },
  {
   "cell_type": "code",
   "execution_count": null,
   "outputs": [],
   "source": [],
   "metadata": {
    "collapsed": false,
    "pycharm": {
     "name": "#%%\n"
    }
   }
  }
 ],
 "metadata": {
  "kernelspec": {
   "display_name": "Python 3",
   "language": "python",
   "name": "python3"
  },
  "language_info": {
   "codemirror_mode": {
    "name": "ipython",
    "version": 2
   },
   "file_extension": ".py",
   "mimetype": "text/x-python",
   "name": "python",
   "nbconvert_exporter": "python",
   "pygments_lexer": "ipython2",
   "version": "2.7.6"
  }
 },
 "nbformat": 4,
 "nbformat_minor": 0
}